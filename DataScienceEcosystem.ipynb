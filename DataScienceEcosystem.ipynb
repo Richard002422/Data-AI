{
 "cells": [
  {
   "cell_type": "markdown",
   "id": "e1e44314-a8f2-4a12-aeb9-67fc381f82af",
   "metadata": {},
   "source": [
    "# Data Science Tools and Ecosystem"
   ]
  },
  {
   "cell_type": "markdown",
   "id": "031a35d9-592b-4a3c-a5e3-0b05169ab8c3",
   "metadata": {},
   "source": [
    "In this notebook, Data Science Tools and Ecosystem are sumarized."
   ]
  },
  {
   "cell_type": "markdown",
   "id": "c66180c8-aa56-4fe7-946b-c3dea682881a",
   "metadata": {},
   "source": [
    "Some of the popular languages that Data Scientist use are:"
   ]
  },
  {
   "cell_type": "markdown",
   "id": "dc2777f0-2a52-4b19-98ad-0bbed62a87da",
   "metadata": {},
   "source": [
    "1. **Python**\n",
    "2. **R**\n",
    "3. **SQL**\n",
    "4. **Julia**\n",
    "5. **Java**"
   ]
  },
  {
   "cell_type": "markdown",
   "id": "ddb1bf83-aff2-4db9-a038-78cc73ad2b6b",
   "metadata": {},
   "source": [
    "Some of the commonly used libraries used by Data Scientists include:"
   ]
  },
  {
   "cell_type": "markdown",
   "id": "d72befd9-286a-4292-93e0-034b1b7084b8",
   "metadata": {},
   "source": [
    "1. **Pandas**\n",
    "2. **NumPy**\n",
    "3. **Matplotlip**\n",
    "4. **Seaborn**\n",
    "5. **Scikit-learn**\n",
    "6. **TensorFlow**\n",
    "7. **PyTorch**\n",
    "8. **Statsmodels**\n",
    "9. **NLTK**\n",
    "10. **Beautiful Sup**"
   ]
  },
  {
   "cell_type": "code",
   "execution_count": null,
   "id": "2c4e3326-028d-47db-9a65-dbd823afb35e",
   "metadata": {},
   "outputs": [],
   "source": []
  },
  {
   "cell_type": "markdown",
   "id": "db42f646-0c7e-4946-a284-d5d01658b0ad",
   "metadata": {},
   "source": [
    "|Data Science Tools|\n",
    "|-------------------|\n",
    "|Jupyter Notebook|\n",
    "|RStudio|\n",
    "|VS Code (Visual Estudio Code|\n",
    "|Spyder|\n",
    "|Apache|"
   ]
  },
  {
   "cell_type": "markdown",
   "id": "a32e4a0a-f08c-4925-8846-40178b0f7cd7",
   "metadata": {},
   "source": [
    "### Below are are a new examples of evaluating aritmetic expressions in Python"
   ]
  },
  {
   "cell_type": "code",
   "execution_count": 2,
   "id": "3c525cd9-b8e9-44fb-ab08-99c0e712e67d",
   "metadata": {},
   "outputs": [
    {
     "data": {
      "text/plain": [
       "17"
      ]
     },
     "execution_count": 2,
     "metadata": {},
     "output_type": "execute_result"
    }
   ],
   "source": [
    "# This a simple aricthmetic expression to mutply then add integers\n",
    "(3*4)+5"
   ]
  },
  {
   "cell_type": "code",
   "execution_count": 4,
   "id": "d5e3f3a3-a4e0-432a-b6b4-835c900a8bc2",
   "metadata": {},
   "outputs": [
    {
     "name": "stdout",
     "output_type": "stream",
     "text": [
      "3.3333333333333335\n"
     ]
    }
   ],
   "source": [
    "# This will convert 200 minutes to hours by diving by 60\n",
    "horas = 200/60\n",
    "print(horas)"
   ]
  },
  {
   "cell_type": "markdown",
   "id": "2b50d599-54c8-4879-a54a-9173253b3a32",
   "metadata": {},
   "source": [
    "**objetives:**"
   ]
  },
  {
   "cell_type": "markdown",
   "id": "570ec44f-4cc6-4069-bd1e-6f8c8df3f7dc",
   "metadata": {},
   "source": [
    "- Popular languages that Data Science\n",
    "- Libraries used in Data science\n",
    "- Open source development environment tools used in Data science\n",
    "- Lear how to used Markdown and Code seldas in this workbook"
   ]
  },
  {
   "cell_type": "markdown",
   "id": "eaab9b64-67fc-4371-b2f0-2195457e2885",
   "metadata": {},
   "source": [
    "## Author"
   ]
  },
  {
   "cell_type": "markdown",
   "id": "14f54f14-e3c3-4cd8-b213-6291fcec1d67",
   "metadata": {},
   "source": [
    "Ricardo Perez Mota"
   ]
  },
  {
   "cell_type": "code",
   "execution_count": null,
   "id": "0242bf70-287d-49a0-aebd-cf18a425dbf4",
   "metadata": {},
   "outputs": [],
   "source": []
  }
 ],
 "metadata": {
  "kernelspec": {
   "display_name": "Python 3 (ipykernel)",
   "language": "python",
   "name": "python3"
  },
  "language_info": {
   "codemirror_mode": {
    "name": "ipython",
    "version": 3
   },
   "file_extension": ".py",
   "mimetype": "text/x-python",
   "name": "python",
   "nbconvert_exporter": "python",
   "pygments_lexer": "ipython3",
   "version": "3.12.7"
  }
 },
 "nbformat": 4,
 "nbformat_minor": 5
}
